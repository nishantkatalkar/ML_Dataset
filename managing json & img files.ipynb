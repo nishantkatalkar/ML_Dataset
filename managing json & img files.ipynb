{
 "cells": [
  {
   "cell_type": "markdown",
   "id": "97973f45",
   "metadata": {},
   "source": [
    "### to delete .json files in subdirectories"
   ]
  },
  {
   "cell_type": "code",
   "execution_count": null,
   "id": "1efc41de",
   "metadata": {},
   "outputs": [],
   "source": [
    "import os\n",
    "\n",
    "def remove_json_files(directory_path):\n",
    "    contents = os.listdir(directory_path)\n",
    "    for files in contents:\n",
    "        file_dir = os.listdir(os.path.join(directory_path, files))\n",
    "        for file in file_dir:\n",
    "            if file.endswith(\".json\"):\n",
    "                file_path = os.path.join(f\"{directory_path}/{files}\", file)\n",
    "                os.remove(file_path)\n",
    "                print(f\"Deleted: {file_path}\")\n",
    "\n",
    "\n",
    "# Replace 'directory_path' with the path to your directory having img & json files together\n",
    "directory_path = rf'G:\\Kanalytics\\Object_Recognition\\Project\\combined_annotations\\Dataset\\folder_wise'\n",
    "remove_json_files(directory_path)"
   ]
  },
  {
   "cell_type": "markdown",
   "id": "35c35fd3",
   "metadata": {},
   "source": [
    " "
   ]
  },
  {
   "cell_type": "markdown",
   "id": "370d4102",
   "metadata": {},
   "source": [
    "### seperate image & json"
   ]
  },
  {
   "cell_type": "code",
   "execution_count": null,
   "id": "a5baa9a0",
   "metadata": {},
   "outputs": [],
   "source": [
    "import os\n",
    "import shutil\n",
    "\n",
    "# Specify the path to the main directory containing subdirectories\n",
    "main_directory = 'G:\\Kanalytics\\Object_Recognition\\Project\\combined_annotations'\n",
    "\n",
    "# Specify the path to the new directory where 'OK' directories will be moved\n",
    "image_directory = 'G:\\Kanalytics\\Object_Recognition\\Project\\Splitted_data\\images'\n",
    "json_directory = 'G:\\Kanalytics\\Object_Recognition\\Project\\Splitted_data\\json'\n",
    "\n",
    "# Create directories if they don't exist\n",
    "os.makedirs(image_directory, exist_ok=True)\n",
    "os.makedirs(json_directory, exist_ok=True)\n",
    "\n",
    "for root, dirs, files in os.walk(main_directory):\n",
    "    for file in files:\n",
    "        if file.endswith('.json'):\n",
    "            # Move JSON files to the JSON directory\n",
    "            shutil.copy(os.path.join(root, file), os.path.join(json_directory, file))\n",
    "            print(\"Successfully copied\")\n",
    "        elif file.endswith('.png'):\n",
    "            # Move image files to the image directory\n",
    "            shutil.copy(os.path.join(root, file), os.path.join(image_directory, file))\n",
    "            print(\"Successfully copied\")"
   ]
  },
  {
   "cell_type": "markdown",
   "id": "c8fc0283",
   "metadata": {},
   "source": [
    " "
   ]
  },
  {
   "cell_type": "markdown",
   "id": "e2f136fd",
   "metadata": {},
   "source": [
    "### delete files not present in either directory by matching their filenames in both directories"
   ]
  },
  {
   "cell_type": "code",
   "execution_count": null,
   "id": "d1833cf5",
   "metadata": {},
   "outputs": [],
   "source": [
    "import os\n",
    "\n",
    "def get_filenames_without_extension(directory):\n",
    "    filenames = [os.path.splitext(file)[0] for file in os.listdir(directory)]\n",
    "    return set(filenames)\n",
    "\n",
    "json_dir = 'G:\\Kanalytics\\Object_Recognition\\Project\\Splitted_data\\json'\n",
    "images_dir = 'G:\\Kanalytics\\Object_Recognition\\Project\\Splitted_data\\images'\n",
    "\n",
    "json_filenames = get_filenames_without_extension(json_dir)\n",
    "images_filenames = get_filenames_without_extension(images_dir)\n",
    "\n",
    "# Find files not present in either directory\n",
    "files_to_delete = json_filenames.symmetric_difference(images_filenames)\n",
    "\n",
    "# Delete files from JSON directory\n",
    "for file in files_to_delete.intersection(json_filenames):\n",
    "    file_path = os.path.join(json_dir, file + '.json')\n",
    "    os.remove(file_path)\n",
    "    print(f\"Deleted file: {file}.json from {json_dir}\")\n",
    "\n",
    "# Delete files from images directory\n",
    "for file in files_to_delete.intersection(images_filenames):\n",
    "    file_path = os.path.join(images_dir, file + '.jpg')  # Change the extension as needed\n",
    "    os.remove(file_path)\n",
    "    print(f\"Deleted file: {file}.jpg from {images_dir}\")"
   ]
  },
  {
   "cell_type": "markdown",
   "id": "614c42ba",
   "metadata": {},
   "source": [
    " "
   ]
  },
  {
   "cell_type": "markdown",
   "id": "c2bfef60",
   "metadata": {},
   "source": [
    "### deleting img file which is not having its json in the other dir"
   ]
  },
  {
   "cell_type": "code",
   "execution_count": null,
   "id": "c2328fdd",
   "metadata": {},
   "outputs": [],
   "source": [
    "import os\n",
    "\n",
    "def delete_jpg_without_json(directory):\n",
    "    for root, dirs, files in os.walk(directory):\n",
    "        for file in files:\n",
    "            if file.endswith('.png'):\n",
    "                jpg_path = os.path.join(root, file)\n",
    "                json_path = os.path.join(root, file.replace('.png', '.json'))\n",
    "\n",
    "                if not os.path.exists(json_path):\n",
    "                    print(f\"Deleting {jpg_path} as there is no corresponding JSON file.\")\n",
    "                    os.remove(jpg_path)\n",
    "\n",
    "# Specify the path to the main directory containing subdirectories\n",
    "main_directory = 'G:\\Kanalytics\\Object_Recognition\\Project\\combined_annotations'\n",
    "\n",
    "# Replace 'your_directory_path' with the path to your 'train' directory\n",
    "delete_jpg_without_json(main_directory)"
   ]
  }
 ],
 "metadata": {
  "kernelspec": {
   "display_name": "Python 3 (ipykernel)",
   "language": "python",
   "name": "python3"
  },
  "language_info": {
   "codemirror_mode": {
    "name": "ipython",
    "version": 3
   },
   "file_extension": ".py",
   "mimetype": "text/x-python",
   "name": "python",
   "nbconvert_exporter": "python",
   "pygments_lexer": "ipython3",
   "version": "3.9.13"
  }
 },
 "nbformat": 4,
 "nbformat_minor": 5
}
