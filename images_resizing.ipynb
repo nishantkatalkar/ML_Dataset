{
 "cells": [
  {
   "cell_type": "code",
   "execution_count": null,
   "id": "da8ba68c",
   "metadata": {},
   "outputs": [],
   "source": [
    "from PIL import Image\n",
    "import os\n",
    "\n",
    "def check_image_dimensions(directory):\n",
    "    image_files = [file for file in os.listdir(directory) if file.endswith(('jpg', 'jpeg', 'png'))]\n",
    "    dimensions = set()\n",
    "\n",
    "    for file in image_files:\n",
    "        image_path = os.path.join(directory, file)\n",
    "        with Image.open(image_path) as img:\n",
    "            width, height = img.size\n",
    "            dimensions.add((width, height))\n",
    "\n",
    "    return dimensions\n",
    "\n",
    "directory = rf'D:\\Kanalytics Office Work\\logo_detect\\Dataset\\all_images'\n",
    "image_dimensions = check_image_dimensions(directory)\n",
    "\n",
    "if len(image_dimensions) == 1:\n",
    "    print(\"All images have the same dimensions:\", image_dimensions.pop())\n",
    "else:\n",
    "    print(\"Images have different dimensions:\", image_dimensions)\n"
   ]
  },
  {
   "cell_type": "code",
   "execution_count": null,
   "id": "46804bd1",
   "metadata": {},
   "outputs": [],
   "source": [
    "from PIL import Image\n",
    "import os\n",
    "\n",
    "def find_max_dimensions(directory):\n",
    "    image_files = [file for file in os.listdir(directory) if file.endswith(('jpg', 'jpeg', 'png', 'bmp', 'gif'))]\n",
    "\n",
    "    max_width = 0\n",
    "    max_height = 0\n",
    "\n",
    "    for file in image_files:\n",
    "        image_path = os.path.join(directory, file)\n",
    "        with Image.open(image_path) as img:\n",
    "            width, height = img.size\n",
    "            max_width = max(max_width, width)\n",
    "            max_height = max(max_height, height)\n",
    "\n",
    "    return max_width, max_height\n",
    "\n",
    "def resize_images(directory, target_width, target_height):\n",
    "    image_files = [file for file in os.listdir(directory) if file.endswith(('jpg', 'jpeg', 'png', 'bmp', 'gif'))]\n",
    "\n",
    "    for file in image_files:\n",
    "        image_path = os.path.join(directory, file)\n",
    "        with Image.open(image_path) as img:\n",
    "            resized_img = img.resize((target_width, target_height), Image.ANTIALIAS)\n",
    "            resized_img.save(image_path)\n",
    "\n",
    "directory = rf'D:\\Kanalytics Office Work\\logo_detect\\Dataset\\all_images'\n",
    "# max_width, max_height = find_max_dimensions(directory)\n",
    "max_width, max_height = 224\n",
    "resize_images(directory, max_width, max_height)\n"
   ]
  },
  {
   "cell_type": "code",
   "execution_count": null,
   "id": "fbc0ed35",
   "metadata": {},
   "outputs": [],
   "source": [
    "from PIL import Image\n",
    "import os\n",
    "\n",
    "def resize_images(directory, width, height):\n",
    "    image_files = [file for file in os.listdir(directory) if file.endswith(('jpg', 'jpeg', 'png'))]\n",
    "\n",
    "    for file in image_files:\n",
    "        image_path = os.path.join(directory, file)\n",
    "        with Image.open(image_path) as img:\n",
    "            resized_img = img.resize((width, height), Image.ANTIALIAS)\n",
    "            resized_img.save(image_path)\n",
    "\n",
    "directory = rf'D:\\Kanalytics Office Work\\logo_detect\\Dataset\\all_images'\n",
    "target_width = 224  # Specify the target width for resizing\n",
    "target_height = 224  # Specify the target height for resizing\n",
    "\n",
    "resize_images(directory, target_width, target_height)\n"
   ]
  }
 ],
 "metadata": {
  "kernelspec": {
   "display_name": "Python 3 (ipykernel)",
   "language": "python",
   "name": "python3"
  },
  "language_info": {
   "codemirror_mode": {
    "name": "ipython",
    "version": 3
   },
   "file_extension": ".py",
   "mimetype": "text/x-python",
   "name": "python",
   "nbconvert_exporter": "python",
   "pygments_lexer": "ipython3",
   "version": "3.9.13"
  }
 },
 "nbformat": 4,
 "nbformat_minor": 5
}
