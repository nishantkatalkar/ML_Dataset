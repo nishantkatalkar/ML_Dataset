{
 "cells": [
  {
   "cell_type": "markdown",
   "metadata": {},
   "source": [
    "### sort the directories in a directory"
   ]
  },
  {
   "cell_type": "code",
   "execution_count": null,
   "metadata": {},
   "outputs": [],
   "source": [
    "import os\n",
    "\n",
    "# Replace 'path/to/main_directory' with your main directory path\n",
    "main_directory_path = 'G:\\Kanalytics\\Object_Recognition\\Project\\All_data'\n",
    "\n",
    "# List all contents (files and directories) in the main directory\n",
    "contents = os.listdir(main_directory_path)\n",
    "print(contents)\n",
    "\n",
    "# Filter out only the directories\n",
    "directories = [name for name in contents if os.path.isdir(os.path.join(main_directory_path, name))]\n",
    "directories.sort()\n",
    "print(directories)\n"
   ]
  },
  {
   "cell_type": "markdown",
   "metadata": {},
   "source": [
    " "
   ]
  },
  {
   "cell_type": "markdown",
   "metadata": {},
   "source": [
    "### generating unique no and reanaming the filename respective to the folder name and with the counter"
   ]
  },
  {
   "cell_type": "code",
   "execution_count": null,
   "metadata": {},
   "outputs": [],
   "source": [
    "import os\n",
    "import random\n",
    "import re \n",
    "\n",
    "# Function to generate a unique random 9-digit number\n",
    "def generate_unique_number(used_numbers):\n",
    "    while True:\n",
    "        number = str(random.randint(100000000, 999999999))\n",
    "        if number not in used_numbers:\n",
    "            used_numbers.add(number)\n",
    "            return number\n",
    "\n",
    "# Function to rename files in a directory with unique numbers\n",
    "def rename_files(directory):\n",
    "    used_numbers = set()\n",
    "    for filename in os.listdir(directory):\n",
    "        extension = os.path.splitext(filename)[1]\n",
    "        if os.path.isfile(os.path.join(directory, filename)):\n",
    "            unique_number = generate_unique_number(used_numbers)\n",
    "            new_filename = f\"{unique_number}{extension}\"  # You can change the file extension if needed\n",
    "            print(new_filename)\n",
    "            os.rename(os.path.join(directory, filename), os.path.join(directory, new_filename))\n",
    "            print(f\"Renamed {filename} to {new_filename}\")\n",
    "\n",
    "            \n",
    "            \n",
    "def organize_images(folder_path,category):\n",
    "    # Get a list of all files in the folder\n",
    "    files = os.listdir(folder_path)\n",
    "\n",
    "    # Create a counter for generating sequential indices\n",
    "    index_counter = 0\n",
    "\n",
    "    # Create a dictionary to store the original and new names\n",
    "    file_mapping = {}\n",
    "\n",
    "    # Iterate through the files and organize them\n",
    "    for file in files:\n",
    "        # Check if the file is a PNG image\n",
    "        if file.lower().endswith(\".png\"):\n",
    "            # Create the new file name\n",
    "            new_name = f\"{category}_{index_counter}.png\"\n",
    "\n",
    "            # Store the mapping in the dictionary\n",
    "            file_mapping[file] = new_name\n",
    "\n",
    "            # Increment the index counter\n",
    "            index_counter += 1\n",
    "\n",
    "            # Rename the file\n",
    "            os.rename(os.path.join(folder_path, file), os.path.join(folder_path, new_name))\n",
    "\n",
    "    print(\"Organized files:\")\n",
    "    for original, new_name in file_mapping.items():\n",
    "        print(f\"{original} => {new_name}\")\n",
    "\n",
    "\n",
    "\n",
    "print(\"Directories inside the main directory:\")\n",
    "for directory in directories:\n",
    "    directory_path = rf\"G:\\Kanalytics\\Object_Recognition\\Project\\All_data\\{directory}\"\n",
    "    rename_files(directory_path)\n",
    "    organize_images(directory_path,directory)"
   ]
  },
  {
   "cell_type": "markdown",
   "metadata": {},
   "source": [
    " "
   ]
  }
 ],
 "metadata": {
  "kernelspec": {
   "display_name": "Python 3 (ipykernel)",
   "language": "python",
   "name": "python3"
  },
  "language_info": {
   "codemirror_mode": {
    "name": "ipython",
    "version": 3
   },
   "file_extension": ".py",
   "mimetype": "text/x-python",
   "name": "python",
   "nbconvert_exporter": "python",
   "pygments_lexer": "ipython3",
   "version": "3.9.13"
  }
 },
 "nbformat": 4,
 "nbformat_minor": 2
}
